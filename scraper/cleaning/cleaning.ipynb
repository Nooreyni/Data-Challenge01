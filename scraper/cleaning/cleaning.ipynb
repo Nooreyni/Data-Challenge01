{
 "cells": [
  {
   "cell_type": "code",
   "execution_count": 46,
   "metadata": {},
   "outputs": [],
   "source": [
    "#imports\n",
    "import pandas as pd"
   ]
  },
  {
   "cell_type": "markdown",
   "metadata": {},
   "source": [
    "stocks.csv contient le résultat de 150 pages pour house et appartements"
   ]
  },
  {
   "cell_type": "code",
   "execution_count": 47,
   "metadata": {},
   "outputs": [],
   "source": [
    "pd.options.display.max_columns = None"
   ]
  },
  {
   "cell_type": "code",
   "execution_count": 48,
   "metadata": {},
   "outputs": [],
   "source": [
    "d= \"stocks.csv\""
   ]
  },
  {
   "cell_type": "code",
   "execution_count": 49,
   "metadata": {},
   "outputs": [],
   "source": [
    "data = pd.read_csv(d)"
   ]
  },
  {
   "cell_type": "code",
   "execution_count": 50,
   "metadata": {},
   "outputs": [
    {
     "data": {
      "text/html": [
       "<div>\n",
       "<style scoped>\n",
       "    .dataframe tbody tr th:only-of-type {\n",
       "        vertical-align: middle;\n",
       "    }\n",
       "\n",
       "    .dataframe tbody tr th {\n",
       "        vertical-align: top;\n",
       "    }\n",
       "\n",
       "    .dataframe thead th {\n",
       "        text-align: right;\n",
       "    }\n",
       "</style>\n",
       "<table border=\"1\" class=\"dataframe\">\n",
       "  <thead>\n",
       "    <tr style=\"text-align: right;\">\n",
       "      <th></th>\n",
       "      <th>id</th>\n",
       "      <th>type</th>\n",
       "      <th>subtype</th>\n",
       "      <th>price</th>\n",
       "      <th>transactionType</th>\n",
       "      <th>zip</th>\n",
       "      <th>visualisationOption</th>\n",
       "      <th>cuisine_type</th>\n",
       "      <th>constructionYear</th>\n",
       "      <th>condition</th>\n",
       "      <th>heatingType</th>\n",
       "      <th>primaryEnergyConsumptionLevel</th>\n",
       "      <th>room_number</th>\n",
       "      <th>surface</th>\n",
       "      <th>atticExists</th>\n",
       "      <th>basementExists</th>\n",
       "      <th>hasSwimmingPool</th>\n",
       "      <th>indoor</th>\n",
       "      <th>outdoor</th>\n",
       "      <th>short_id</th>\n",
       "      <th>company_name</th>\n",
       "      <th>m2</th>\n",
       "      <th>commune</th>\n",
       "    </tr>\n",
       "  </thead>\n",
       "  <tbody>\n",
       "    <tr>\n",
       "      <th>0</th>\n",
       "      <td>9042129</td>\n",
       "      <td>apartment group</td>\n",
       "      <td>apartment group</td>\n",
       "      <td>336000 - 610000</td>\n",
       "      <td>for sale</td>\n",
       "      <td>1000</td>\n",
       "      <td>xl</td>\n",
       "      <td>NaN</td>\n",
       "      <td>NaN</td>\n",
       "      <td>NaN</td>\n",
       "      <td>NaN</td>\n",
       "      <td>NaN</td>\n",
       "      <td>NaN</td>\n",
       "      <td>NaN</td>\n",
       "      <td>NaN</td>\n",
       "      <td>NaN</td>\n",
       "      <td>NaN</td>\n",
       "      <td>1.0</td>\n",
       "      <td>1.0</td>\n",
       "      <td>2575488</td>\n",
       "      <td>we invest real estate</td>\n",
       "      <td>94</td>\n",
       "      <td>Bruxelles</td>\n",
       "    </tr>\n",
       "    <tr>\n",
       "      <th>1</th>\n",
       "      <td>9041098</td>\n",
       "      <td>apartment group</td>\n",
       "      <td>apartment group</td>\n",
       "      <td>165000 - 420000</td>\n",
       "      <td>for sale</td>\n",
       "      <td>6001</td>\n",
       "      <td>xl</td>\n",
       "      <td>NaN</td>\n",
       "      <td>NaN</td>\n",
       "      <td>NaN</td>\n",
       "      <td>NaN</td>\n",
       "      <td>NaN</td>\n",
       "      <td>NaN</td>\n",
       "      <td>NaN</td>\n",
       "      <td>NaN</td>\n",
       "      <td>NaN</td>\n",
       "      <td>NaN</td>\n",
       "      <td>NaN</td>\n",
       "      <td>NaN</td>\n",
       "      <td>1400721</td>\n",
       "      <td>concept confort sprl</td>\n",
       "      <td>64</td>\n",
       "      <td>Marcinelle</td>\n",
       "    </tr>\n",
       "    <tr>\n",
       "      <th>2</th>\n",
       "      <td>9039019</td>\n",
       "      <td>apartment</td>\n",
       "      <td>apartment</td>\n",
       "      <td>1550000</td>\n",
       "      <td>for sale</td>\n",
       "      <td>1050</td>\n",
       "      <td>xl</td>\n",
       "      <td>usa hyper equipped</td>\n",
       "      <td>2017.0</td>\n",
       "      <td>as new</td>\n",
       "      <td>gas</td>\n",
       "      <td>NaN</td>\n",
       "      <td>3.0</td>\n",
       "      <td>NaN</td>\n",
       "      <td>NaN</td>\n",
       "      <td>NaN</td>\n",
       "      <td>NaN</td>\n",
       "      <td>NaN</td>\n",
       "      <td>1.0</td>\n",
       "      <td>2595964</td>\n",
       "      <td>lecobel vaneau vente neuf</td>\n",
       "      <td>213</td>\n",
       "      <td>Ixelles</td>\n",
       "    </tr>\n",
       "    <tr>\n",
       "      <th>3</th>\n",
       "      <td>9043036</td>\n",
       "      <td>apartment</td>\n",
       "      <td>apartment</td>\n",
       "      <td>195000</td>\n",
       "      <td>for sale</td>\n",
       "      <td>9600</td>\n",
       "      <td>xl</td>\n",
       "      <td>installed</td>\n",
       "      <td>2014.0</td>\n",
       "      <td>good</td>\n",
       "      <td>gas</td>\n",
       "      <td>NaN</td>\n",
       "      <td>2.0</td>\n",
       "      <td>NaN</td>\n",
       "      <td>NaN</td>\n",
       "      <td>NaN</td>\n",
       "      <td>NaN</td>\n",
       "      <td>NaN</td>\n",
       "      <td>NaN</td>\n",
       "      <td>1002634</td>\n",
       "      <td>immo beguin</td>\n",
       "      <td>75</td>\n",
       "      <td>Renaix</td>\n",
       "    </tr>\n",
       "    <tr>\n",
       "      <th>4</th>\n",
       "      <td>9042073</td>\n",
       "      <td>apartment</td>\n",
       "      <td>apartment</td>\n",
       "      <td>320000</td>\n",
       "      <td>for sale</td>\n",
       "      <td>1070</td>\n",
       "      <td>xl</td>\n",
       "      <td>usa hyper equipped</td>\n",
       "      <td>2017.0</td>\n",
       "      <td>as new</td>\n",
       "      <td>gas</td>\n",
       "      <td>NaN</td>\n",
       "      <td>3.0</td>\n",
       "      <td>NaN</td>\n",
       "      <td>NaN</td>\n",
       "      <td>True</td>\n",
       "      <td>NaN</td>\n",
       "      <td>1.0</td>\n",
       "      <td>1.0</td>\n",
       "      <td>2916018</td>\n",
       "      <td>sky realty</td>\n",
       "      <td>130</td>\n",
       "      <td>Anderlecht</td>\n",
       "    </tr>\n",
       "  </tbody>\n",
       "</table>\n",
       "</div>"
      ],
      "text/plain": [
       "        id             type          subtype            price transactionType  \\\n",
       "0  9042129  apartment group  apartment group  336000 - 610000        for sale   \n",
       "1  9041098  apartment group  apartment group  165000 - 420000        for sale   \n",
       "2  9039019        apartment        apartment          1550000        for sale   \n",
       "3  9043036        apartment        apartment           195000        for sale   \n",
       "4  9042073        apartment        apartment           320000        for sale   \n",
       "\n",
       "    zip visualisationOption        cuisine_type  constructionYear condition  \\\n",
       "0  1000                  xl                 NaN               NaN       NaN   \n",
       "1  6001                  xl                 NaN               NaN       NaN   \n",
       "2  1050                  xl  usa hyper equipped            2017.0    as new   \n",
       "3  9600                  xl           installed            2014.0      good   \n",
       "4  1070                  xl  usa hyper equipped            2017.0    as new   \n",
       "\n",
       "  heatingType  primaryEnergyConsumptionLevel  room_number  surface  \\\n",
       "0         NaN                            NaN          NaN      NaN   \n",
       "1         NaN                            NaN          NaN      NaN   \n",
       "2         gas                            NaN          3.0      NaN   \n",
       "3         gas                            NaN          2.0      NaN   \n",
       "4         gas                            NaN          3.0      NaN   \n",
       "\n",
       "  atticExists basementExists hasSwimmingPool  indoor  outdoor  short_id  \\\n",
       "0         NaN            NaN             NaN     1.0      1.0   2575488   \n",
       "1         NaN            NaN             NaN     NaN      NaN   1400721   \n",
       "2         NaN            NaN             NaN     NaN      1.0   2595964   \n",
       "3         NaN            NaN             NaN     NaN      NaN   1002634   \n",
       "4         NaN           True             NaN     1.0      1.0   2916018   \n",
       "\n",
       "                company_name   m2     commune  \n",
       "0      we invest real estate   94   Bruxelles  \n",
       "1       concept confort sprl   64  Marcinelle  \n",
       "2  lecobel vaneau vente neuf  213     Ixelles  \n",
       "3                immo beguin   75      Renaix  \n",
       "4                 sky realty  130  Anderlecht  "
      ]
     },
     "execution_count": 50,
     "metadata": {},
     "output_type": "execute_result"
    }
   ],
   "source": [
    "data.head(5)"
   ]
  },
  {
   "cell_type": "code",
   "execution_count": 51,
   "metadata": {},
   "outputs": [
    {
     "name": "stdout",
     "output_type": "stream",
     "text": [
      "<class 'pandas.core.frame.DataFrame'>\n",
      "RangeIndex: 19855 entries, 0 to 19854\n",
      "Data columns (total 23 columns):\n",
      " #   Column                         Non-Null Count  Dtype  \n",
      "---  ------                         --------------  -----  \n",
      " 0   id                             19855 non-null  int64  \n",
      " 1   type                           19855 non-null  object \n",
      " 2   subtype                        19855 non-null  object \n",
      " 3   price                          19855 non-null  object \n",
      " 4   transactionType                19855 non-null  object \n",
      " 5   zip                            19855 non-null  int64  \n",
      " 6   visualisationOption            19855 non-null  object \n",
      " 7   cuisine_type                   12904 non-null  object \n",
      " 8   constructionYear               11227 non-null  float64\n",
      " 9   condition                      13434 non-null  object \n",
      " 10  heatingType                    12404 non-null  object \n",
      " 11  primaryEnergyConsumptionLevel  0 non-null      float64\n",
      " 12  room_number                    18184 non-null  float64\n",
      " 13  surface                        3350 non-null   float64\n",
      " 14  atticExists                    2625 non-null   object \n",
      " 15  basementExists                 7597 non-null   object \n",
      " 16  hasSwimmingPool                528 non-null    object \n",
      " 17  indoor                         7041 non-null   float64\n",
      " 18  outdoor                        5518 non-null   float64\n",
      " 19  short_id                       19855 non-null  int64  \n",
      " 20  company_name                   18738 non-null  object \n",
      " 21  m2                             19855 non-null  int64  \n",
      " 22  commune                        19855 non-null  object \n",
      "dtypes: float64(6), int64(4), object(13)\n",
      "memory usage: 3.5+ MB\n"
     ]
    }
   ],
   "source": [
    "data.info()"
   ]
  },
  {
   "cell_type": "markdown",
   "metadata": {},
   "source": [
    " # Exploring datas"
   ]
  },
  {
   "cell_type": "code",
   "execution_count": 52,
   "metadata": {},
   "outputs": [
    {
     "data": {
      "text/plain": [
       "installed             6380\n",
       "hyper equipped        2879\n",
       "semi equipped         1333\n",
       "usa hyper equipped    1155\n",
       "not installed          706\n",
       "usa installed          346\n",
       "usa semi equipped       92\n",
       "usa uninstalled         13\n",
       "Name: cuisine_type, dtype: int64"
      ]
     },
     "execution_count": 52,
     "metadata": {},
     "output_type": "execute_result"
    }
   ],
   "source": [
    "data[\"cuisine_type\"].value_counts()"
   ]
  },
  {
   "cell_type": "markdown",
   "metadata": {},
   "source": [
    "- Remplacer les null par installed? les supprimer?"
   ]
  },
  {
   "cell_type": "code",
   "execution_count": 53,
   "metadata": {},
   "outputs": [
    {
     "data": {
      "text/plain": [
       "2020.0    1574\n",
       "2019.0     776\n",
       "2018.0     366\n",
       "2021.0     342\n",
       "1930.0     235\n",
       "          ... \n",
       "1802.0       1\n",
       "1872.0       1\n",
       "1789.0       1\n",
       "1786.0       1\n",
       "1855.0       1\n",
       "Name: constructionYear, Length: 185, dtype: int64"
      ]
     },
     "execution_count": 53,
     "metadata": {},
     "output_type": "execute_result"
    }
   ],
   "source": [
    "data[\"constructionYear\"].value_counts()"
   ]
  },
  {
   "cell_type": "code",
   "execution_count": 54,
   "metadata": {},
   "outputs": [
    {
     "data": {
      "text/plain": [
       "as new            5820\n",
       "good              4428\n",
       "to be done up     1110\n",
       "to renovate       1105\n",
       "just renovated     890\n",
       "to restore          81\n",
       "Name: condition, dtype: int64"
      ]
     },
     "execution_count": 54,
     "metadata": {},
     "output_type": "execute_result"
    }
   ],
   "source": [
    "data[\"condition\"].value_counts()"
   ]
  },
  {
   "cell_type": "code",
   "execution_count": 55,
   "metadata": {},
   "outputs": [
    {
     "data": {
      "text/plain": [
       "gas         9190\n",
       "fueloil     2316\n",
       "electric     736\n",
       "pellet       117\n",
       "wood          26\n",
       "carbon        14\n",
       "solar          5\n",
       "Name: heatingType, dtype: int64"
      ]
     },
     "execution_count": 55,
     "metadata": {},
     "output_type": "execute_result"
    }
   ],
   "source": [
    "data[\"heatingType\"].value_counts()"
   ]
  },
  {
   "cell_type": "code",
   "execution_count": 56,
   "metadata": {},
   "outputs": [
    {
     "data": {
      "text/plain": [
       "True    2625\n",
       "Name: atticExists, dtype: int64"
      ]
     },
     "execution_count": 56,
     "metadata": {},
     "output_type": "execute_result"
    }
   ],
   "source": [
    "data[\"atticExists\"].value_counts()#assume rest is false"
   ]
  },
  {
   "cell_type": "code",
   "execution_count": 57,
   "metadata": {},
   "outputs": [
    {
     "data": {
      "text/plain": [
       "True    7597\n",
       "Name: basementExists, dtype: int64"
      ]
     },
     "execution_count": 57,
     "metadata": {},
     "output_type": "execute_result"
    }
   ],
   "source": [
    "data[\"basementExists\"].value_counts()#assume rest is false"
   ]
  },
  {
   "cell_type": "code",
   "execution_count": 58,
   "metadata": {},
   "outputs": [
    {
     "data": {
      "text/plain": [
       "True    528\n",
       "Name: hasSwimmingPool, dtype: int64"
      ]
     },
     "execution_count": 58,
     "metadata": {},
     "output_type": "execute_result"
    }
   ],
   "source": [
    "data[\"hasSwimmingPool\"].value_counts()#assume rest is false"
   ]
  },
  {
   "cell_type": "code",
   "execution_count": 59,
   "metadata": {},
   "outputs": [],
   "source": [
    "#data[\"indoor\"].value_counts() ??"
   ]
  },
  {
   "cell_type": "code",
   "execution_count": 60,
   "metadata": {},
   "outputs": [],
   "source": [
    "#data[\"outdoor\"].value_counts() ??"
   ]
  },
  {
   "cell_type": "code",
   "execution_count": 61,
   "metadata": {},
   "outputs": [
    {
     "data": {
      "text/html": [
       "<div>\n",
       "<style scoped>\n",
       "    .dataframe tbody tr th:only-of-type {\n",
       "        vertical-align: middle;\n",
       "    }\n",
       "\n",
       "    .dataframe tbody tr th {\n",
       "        vertical-align: top;\n",
       "    }\n",
       "\n",
       "    .dataframe thead th {\n",
       "        text-align: right;\n",
       "    }\n",
       "</style>\n",
       "<table border=\"1\" class=\"dataframe\">\n",
       "  <thead>\n",
       "    <tr style=\"text-align: right;\">\n",
       "      <th></th>\n",
       "      <th>id</th>\n",
       "      <th>zip</th>\n",
       "      <th>constructionYear</th>\n",
       "      <th>primaryEnergyConsumptionLevel</th>\n",
       "      <th>room_number</th>\n",
       "      <th>surface</th>\n",
       "      <th>indoor</th>\n",
       "      <th>outdoor</th>\n",
       "      <th>short_id</th>\n",
       "      <th>m2</th>\n",
       "    </tr>\n",
       "  </thead>\n",
       "  <tbody>\n",
       "    <tr>\n",
       "      <th>count</th>\n",
       "      <td>1.985500e+04</td>\n",
       "      <td>19855.000000</td>\n",
       "      <td>11227.000000</td>\n",
       "      <td>0.0</td>\n",
       "      <td>18184.000000</td>\n",
       "      <td>3350.000000</td>\n",
       "      <td>7041.000000</td>\n",
       "      <td>5518.000000</td>\n",
       "      <td>1.985500e+04</td>\n",
       "      <td>19855.000000</td>\n",
       "    </tr>\n",
       "    <tr>\n",
       "      <th>mean</th>\n",
       "      <td>8.813947e+06</td>\n",
       "      <td>5351.076958</td>\n",
       "      <td>1983.291351</td>\n",
       "      <td>NaN</td>\n",
       "      <td>2.993731</td>\n",
       "      <td>1115.731940</td>\n",
       "      <td>7.673626</td>\n",
       "      <td>4.169264</td>\n",
       "      <td>1.723057e+06</td>\n",
       "      <td>152.286678</td>\n",
       "    </tr>\n",
       "    <tr>\n",
       "      <th>std</th>\n",
       "      <td>3.474169e+05</td>\n",
       "      <td>3203.867180</td>\n",
       "      <td>39.423541</td>\n",
       "      <td>NaN</td>\n",
       "      <td>3.426793</td>\n",
       "      <td>4881.913707</td>\n",
       "      <td>417.228670</td>\n",
       "      <td>10.313800</td>\n",
       "      <td>1.207467e+06</td>\n",
       "      <td>168.879982</td>\n",
       "    </tr>\n",
       "    <tr>\n",
       "      <th>min</th>\n",
       "      <td>3.702839e+06</td>\n",
       "      <td>1000.000000</td>\n",
       "      <td>1755.000000</td>\n",
       "      <td>NaN</td>\n",
       "      <td>0.000000</td>\n",
       "      <td>1.000000</td>\n",
       "      <td>1.000000</td>\n",
       "      <td>1.000000</td>\n",
       "      <td>1.410000e+03</td>\n",
       "      <td>1.000000</td>\n",
       "    </tr>\n",
       "    <tr>\n",
       "      <th>25%</th>\n",
       "      <td>8.783413e+06</td>\n",
       "      <td>1970.000000</td>\n",
       "      <td>1962.000000</td>\n",
       "      <td>NaN</td>\n",
       "      <td>2.000000</td>\n",
       "      <td>76.000000</td>\n",
       "      <td>1.000000</td>\n",
       "      <td>1.000000</td>\n",
       "      <td>5.011240e+05</td>\n",
       "      <td>79.000000</td>\n",
       "    </tr>\n",
       "    <tr>\n",
       "      <th>50%</th>\n",
       "      <td>8.933765e+06</td>\n",
       "      <td>5330.000000</td>\n",
       "      <td>1993.000000</td>\n",
       "      <td>NaN</td>\n",
       "      <td>3.000000</td>\n",
       "      <td>210.000000</td>\n",
       "      <td>1.000000</td>\n",
       "      <td>2.000000</td>\n",
       "      <td>1.838339e+06</td>\n",
       "      <td>118.000000</td>\n",
       "    </tr>\n",
       "    <tr>\n",
       "      <th>75%</th>\n",
       "      <td>9.000254e+06</td>\n",
       "      <td>8470.000000</td>\n",
       "      <td>2018.000000</td>\n",
       "      <td>NaN</td>\n",
       "      <td>4.000000</td>\n",
       "      <td>700.000000</td>\n",
       "      <td>2.000000</td>\n",
       "      <td>4.000000</td>\n",
       "      <td>2.735512e+06</td>\n",
       "      <td>188.000000</td>\n",
       "    </tr>\n",
       "    <tr>\n",
       "      <th>max</th>\n",
       "      <td>9.043940e+06</td>\n",
       "      <td>9992.000000</td>\n",
       "      <td>2023.000000</td>\n",
       "      <td>NaN</td>\n",
       "      <td>204.000000</td>\n",
       "      <td>80978.000000</td>\n",
       "      <td>35000.000000</td>\n",
       "      <td>250.000000</td>\n",
       "      <td>3.675574e+06</td>\n",
       "      <td>8800.000000</td>\n",
       "    </tr>\n",
       "  </tbody>\n",
       "</table>\n",
       "</div>"
      ],
      "text/plain": [
       "                 id           zip  constructionYear  \\\n",
       "count  1.985500e+04  19855.000000      11227.000000   \n",
       "mean   8.813947e+06   5351.076958       1983.291351   \n",
       "std    3.474169e+05   3203.867180         39.423541   \n",
       "min    3.702839e+06   1000.000000       1755.000000   \n",
       "25%    8.783413e+06   1970.000000       1962.000000   \n",
       "50%    8.933765e+06   5330.000000       1993.000000   \n",
       "75%    9.000254e+06   8470.000000       2018.000000   \n",
       "max    9.043940e+06   9992.000000       2023.000000   \n",
       "\n",
       "       primaryEnergyConsumptionLevel   room_number       surface  \\\n",
       "count                            0.0  18184.000000   3350.000000   \n",
       "mean                             NaN      2.993731   1115.731940   \n",
       "std                              NaN      3.426793   4881.913707   \n",
       "min                              NaN      0.000000      1.000000   \n",
       "25%                              NaN      2.000000     76.000000   \n",
       "50%                              NaN      3.000000    210.000000   \n",
       "75%                              NaN      4.000000    700.000000   \n",
       "max                              NaN    204.000000  80978.000000   \n",
       "\n",
       "             indoor      outdoor      short_id            m2  \n",
       "count   7041.000000  5518.000000  1.985500e+04  19855.000000  \n",
       "mean       7.673626     4.169264  1.723057e+06    152.286678  \n",
       "std      417.228670    10.313800  1.207467e+06    168.879982  \n",
       "min        1.000000     1.000000  1.410000e+03      1.000000  \n",
       "25%        1.000000     1.000000  5.011240e+05     79.000000  \n",
       "50%        1.000000     2.000000  1.838339e+06    118.000000  \n",
       "75%        2.000000     4.000000  2.735512e+06    188.000000  \n",
       "max    35000.000000   250.000000  3.675574e+06   8800.000000  "
      ]
     },
     "execution_count": 61,
     "metadata": {},
     "output_type": "execute_result"
    }
   ],
   "source": [
    "data.describe()"
   ]
  },
  {
   "cell_type": "markdown",
   "metadata": {},
   "source": [
    " # Premières modifs"
   ]
  },
  {
   "cell_type": "code",
   "execution_count": 62,
   "metadata": {},
   "outputs": [],
   "source": [
    "data.rename(columns={'m2':\"mètres carrés\"},inplace=True)"
   ]
  },
  {
   "cell_type": "code",
   "execution_count": 63,
   "metadata": {},
   "outputs": [],
   "source": [
    "del data[\"surface\"]\n",
    "del data[\"primaryEnergyConsumptionLevel\"]"
   ]
  },
  {
   "cell_type": "code",
   "execution_count": 64,
   "metadata": {},
   "outputs": [
    {
     "data": {
      "text/plain": [
       "Index(['id', 'type', 'subtype', 'price', 'transactionType', 'zip',\n",
       "       'visualisationOption', 'cuisine_type', 'constructionYear', 'condition',\n",
       "       'heatingType', 'room_number', 'atticExists', 'basementExists',\n",
       "       'hasSwimmingPool', 'indoor', 'outdoor', 'short_id', 'company_name',\n",
       "       'mètres carrés', 'commune'],\n",
       "      dtype='object')"
      ]
     },
     "execution_count": 64,
     "metadata": {},
     "output_type": "execute_result"
    }
   ],
   "source": [
    "data.columns"
   ]
  },
  {
   "cell_type": "markdown",
   "metadata": {},
   "source": [
    "### Replacing  missing value in data[\"atticExists\"]\n"
   ]
  },
  {
   "cell_type": "code",
   "execution_count": 65,
   "metadata": {},
   "outputs": [],
   "source": [
    "attics = data[\"atticExists\"]"
   ]
  },
  {
   "cell_type": "code",
   "execution_count": 66,
   "metadata": {},
   "outputs": [
    {
     "data": {
      "text/plain": [
       "True    2625\n",
       "Name: atticExists, dtype: int64"
      ]
     },
     "execution_count": 66,
     "metadata": {},
     "output_type": "execute_result"
    }
   ],
   "source": [
    "attics.value_counts()"
   ]
  },
  {
   "cell_type": "code",
   "execution_count": 67,
   "metadata": {},
   "outputs": [],
   "source": [
    "attics.fillna(\"False\",inplace= True)"
   ]
  },
  {
   "cell_type": "code",
   "execution_count": 68,
   "metadata": {},
   "outputs": [
    {
     "data": {
      "text/plain": [
       "False    17230\n",
       "True      2625\n",
       "Name: atticExists, dtype: int64"
      ]
     },
     "execution_count": 68,
     "metadata": {},
     "output_type": "execute_result"
    }
   ],
   "source": [
    "attics.value_counts()"
   ]
  },
  {
   "cell_type": "code",
   "execution_count": 69,
   "metadata": {},
   "outputs": [],
   "source": [
    "data[\"atticExists\"] =attics"
   ]
  },
  {
   "cell_type": "code",
   "execution_count": 70,
   "metadata": {},
   "outputs": [
    {
     "data": {
      "text/plain": [
       "False    17230\n",
       "True      2625\n",
       "Name: atticExists, dtype: int64"
      ]
     },
     "execution_count": 70,
     "metadata": {},
     "output_type": "execute_result"
    }
   ],
   "source": [
    "data[\"atticExists\"].value_counts()"
   ]
  },
  {
   "cell_type": "markdown",
   "metadata": {},
   "source": [
    "#### Replacing  missing value in data[\"constructionYear\"]\n",
    "https://pandas.pydata.org/docs/user_guide/missing_data.html#filling-missing-values-fillna"
   ]
  },
  {
   "cell_type": "code",
   "execution_count": 71,
   "metadata": {},
   "outputs": [],
   "source": [
    "construction = data[\"constructionYear\"]"
   ]
  },
  {
   "cell_type": "code",
   "execution_count": 72,
   "metadata": {},
   "outputs": [],
   "source": [
    "construction.fillna(method=\"bfill\",inplace=True)"
   ]
  },
  {
   "cell_type": "code",
   "execution_count": 73,
   "metadata": {},
   "outputs": [],
   "source": [
    "data[\"constructionYear\"] = construction"
   ]
  },
  {
   "cell_type": "markdown",
   "metadata": {},
   "source": [
    "#### Doing the same with data[\"hasSwimmingPool\"] and data[\"basementExists\"]\n",
    "#### and data[\"cuisine_type\"]"
   ]
  },
  {
   "cell_type": "code",
   "execution_count": 74,
   "metadata": {},
   "outputs": [],
   "source": [
    "data[\"hasSwimmingPool\"].fillna(\"False\",inplace= True)\n",
    "data[\"basementExists\"].fillna(\"False\",inplace= True)\n",
    "data[\"cuisine_type\"].fillna(\"No infos\",inplace= True)"
   ]
  },
  {
   "cell_type": "code",
   "execution_count": null,
   "metadata": {},
   "outputs": [],
   "source": []
  },
  {
   "cell_type": "markdown",
   "metadata": {},
   "source": [
    "## Let's see :"
   ]
  },
  {
   "cell_type": "code",
   "execution_count": 75,
   "metadata": {},
   "outputs": [
    {
     "name": "stdout",
     "output_type": "stream",
     "text": [
      "<class 'pandas.core.frame.DataFrame'>\n",
      "RangeIndex: 19855 entries, 0 to 19854\n",
      "Data columns (total 21 columns):\n",
      " #   Column               Non-Null Count  Dtype  \n",
      "---  ------               --------------  -----  \n",
      " 0   id                   19855 non-null  int64  \n",
      " 1   type                 19855 non-null  object \n",
      " 2   subtype              19855 non-null  object \n",
      " 3   price                19855 non-null  object \n",
      " 4   transactionType      19855 non-null  object \n",
      " 5   zip                  19855 non-null  int64  \n",
      " 6   visualisationOption  19855 non-null  object \n",
      " 7   cuisine_type         19855 non-null  object \n",
      " 8   constructionYear     19851 non-null  float64\n",
      " 9   condition            13434 non-null  object \n",
      " 10  heatingType          12404 non-null  object \n",
      " 11  room_number          18184 non-null  float64\n",
      " 12  atticExists          19855 non-null  object \n",
      " 13  basementExists       19855 non-null  object \n",
      " 14  hasSwimmingPool      19855 non-null  object \n",
      " 15  indoor               7041 non-null   float64\n",
      " 16  outdoor              5518 non-null   float64\n",
      " 17  short_id             19855 non-null  int64  \n",
      " 18  company_name         18738 non-null  object \n",
      " 19  mètres carrés        19855 non-null  int64  \n",
      " 20  commune              19855 non-null  object \n",
      "dtypes: float64(4), int64(4), object(13)\n",
      "memory usage: 3.2+ MB\n"
     ]
    }
   ],
   "source": [
    "data.info()"
   ]
  },
  {
   "cell_type": "markdown",
   "metadata": {},
   "source": [
    "#### condition, heatingtype,room_number and company_name need to be dealt with"
   ]
  },
  {
   "cell_type": "code",
   "execution_count": 76,
   "metadata": {},
   "outputs": [],
   "source": [
    "data[\"heatingType\"].fillna(method='pad',inplace=True)\n",
    "data[\"condition\"].fillna(method='pad',inplace=True)\n",
    "data[\"room_number\"].fillna(method='pad',inplace=True)"
   ]
  },
  {
   "cell_type": "code",
   "execution_count": 77,
   "metadata": {},
   "outputs": [],
   "source": [
    "data[\"company_name\"].fillna(\"No agency\",inplace=True)"
   ]
  },
  {
   "cell_type": "code",
   "execution_count": 78,
   "metadata": {},
   "outputs": [
    {
     "name": "stdout",
     "output_type": "stream",
     "text": [
      "<class 'pandas.core.frame.DataFrame'>\n",
      "RangeIndex: 19855 entries, 0 to 19854\n",
      "Data columns (total 21 columns):\n",
      " #   Column               Non-Null Count  Dtype  \n",
      "---  ------               --------------  -----  \n",
      " 0   id                   19855 non-null  int64  \n",
      " 1   type                 19855 non-null  object \n",
      " 2   subtype              19855 non-null  object \n",
      " 3   price                19855 non-null  object \n",
      " 4   transactionType      19855 non-null  object \n",
      " 5   zip                  19855 non-null  int64  \n",
      " 6   visualisationOption  19855 non-null  object \n",
      " 7   cuisine_type         19855 non-null  object \n",
      " 8   constructionYear     19851 non-null  float64\n",
      " 9   condition            19853 non-null  object \n",
      " 10  heatingType          19853 non-null  object \n",
      " 11  room_number          19853 non-null  float64\n",
      " 12  atticExists          19855 non-null  object \n",
      " 13  basementExists       19855 non-null  object \n",
      " 14  hasSwimmingPool      19855 non-null  object \n",
      " 15  indoor               7041 non-null   float64\n",
      " 16  outdoor              5518 non-null   float64\n",
      " 17  short_id             19855 non-null  int64  \n",
      " 18  company_name         19855 non-null  object \n",
      " 19  mètres carrés        19855 non-null  int64  \n",
      " 20  commune              19855 non-null  object \n",
      "dtypes: float64(4), int64(4), object(13)\n",
      "memory usage: 3.2+ MB\n"
     ]
    }
   ],
   "source": [
    "data.info()"
   ]
  },
  {
   "cell_type": "markdown",
   "metadata": {},
   "source": [
    "TODO :Indoor and outdoor could probably be merge "
   ]
  },
  {
   "cell_type": "code",
   "execution_count": null,
   "metadata": {},
   "outputs": [],
   "source": []
  }
 ],
 "metadata": {
  "kernelspec": {
   "display_name": "becode",
   "language": "python",
   "name": "becode"
  },
  "language_info": {
   "codemirror_mode": {
    "name": "ipython",
    "version": 3
   },
   "file_extension": ".py",
   "mimetype": "text/x-python",
   "name": "python",
   "nbconvert_exporter": "python",
   "pygments_lexer": "ipython3",
   "version": "3.6.7"
  }
 },
 "nbformat": 4,
 "nbformat_minor": 4
}
